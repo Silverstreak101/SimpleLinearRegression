{
  "nbformat": 4,
  "nbformat_minor": 0,
  "metadata": {
    "colab": {
      "name": "HouseRentPredictionCode",
      "provenance": [],
      "authorship_tag": "ABX9TyNJkj0fJa/XcyrMBAsafzuY"
    },
    "kernelspec": {
      "name": "python3",
      "display_name": "Python 3"
    },
    "language_info": {
      "name": "python"
    }
  },
  "cells": [
    {
      "cell_type": "code",
      "execution_count": null,
      "metadata": {
        "id": "T1M-YDkOLw6p"
      },
      "outputs": [],
      "source": [
        "import pandas as pd\n",
        "dataset = pd.read_csv('House_Rent_Dataset.csv')\n",
        "\n",
        "#Dependent variable rent based off independent variable size\n",
        "x = dataset['Size'].values.reshape(-1, 1)\n",
        "y = dataset['Rent'].values"
      ]
    },
    {
      "cell_type": "code",
      "source": [
        "from sklearn.linear_model import LinearRegression\n",
        "\n",
        "lin_reg = LinearRegression()\n",
        "lin_reg.fit(x,y)\n"
      ],
      "metadata": {
        "colab": {
          "base_uri": "https://localhost:8080/"
        },
        "id": "Fq09cBepbdfq",
        "outputId": "61fe67cb-dd8e-46bd-961f-82a1ff7b4536"
      },
      "execution_count": null,
      "outputs": [
        {
          "output_type": "execute_result",
          "data": {
            "text/plain": [
              "LinearRegression()"
            ]
          },
          "metadata": {},
          "execution_count": 3
        }
      ]
    },
    {
      "cell_type": "code",
      "source": [
        "import matplotlib.pyplot as plt\n",
        "\n",
        "#plotting data points (x,y) as a scatter plot in blue\n",
        "plt.scatter(x,y, color = 'blue')\n",
        "\n",
        "#plotting line of best fit using x-values and predicted y-values corresponding to it\n",
        "plt.plot(x, lin_reg.predict(x), color = 'red', linewidth =4)\n",
        "plt.show #displays graph"
      ],
      "metadata": {
        "colab": {
          "base_uri": "https://localhost:8080/",
          "height": 293
        },
        "id": "3knk2Asnc1R5",
        "outputId": "81c833ef-b236-49e1-ff3a-8f1cff488331"
      },
      "execution_count": null,
      "outputs": [
        {
          "output_type": "execute_result",
          "data": {
            "text/plain": [
              "<function matplotlib.pyplot.show(*args, **kw)>"
            ]
          },
          "metadata": {},
          "execution_count": 4
        },
        {
          "output_type": "display_data",
          "data": {
            "text/plain": [
              "<Figure size 432x288 with 1 Axes>"
            ],
            "image/png": "[encoded data removed]"
          },
          "metadata": {
            "needs_background": "light"
          }
        }
      ]
    },
    {
      "cell_type": "code",
      "source": [
        ""
      ],
      "metadata": {
        "id": "WiWz2DvUf13S"
      },
      "execution_count": null,
      "outputs": []
    },
    {
      "cell_type": "code",
      "source": [
        "from sklearn.preprocessing import PolynomialFeatures\n",
        "\n",
        "#changing degree of polynomial to fit data better\n",
        "poly = PolynomialFeatures(degree = 2)\n",
        "x_poly = poly.fit_transform(x)\n",
        "poly.fit(x_poly, y)\n",
        "\n",
        "lin_reg_poly = LinearRegression()\n",
        "lin_reg_poly.fit(x_poly, y)"
      ],
      "metadata": {
        "colab": {
          "base_uri": "https://localhost:8080/"
        },
        "id": "FMy1J-x9d3f_",
        "outputId": "8fb539b8-7655-44cf-a908-6a764e8ead52"
      },
      "execution_count": null,
      "outputs": [
        {
          "output_type": "execute_result",
          "data": {
            "text/plain": [
              "LinearRegression()"
            ]
          },
          "metadata": {},
          "execution_count": 7
        }
      ]
    },
    {
      "cell_type": "code",
      "source": [
        "import matplotlib.pyplot as plt\n",
        "plt.scatter(x,y, color = 'blue')\n",
        "plt.plot(x, lin_reg_poly.predict(poly.fit_transform(x)), color = 'red', linewidth =1)\n",
        "plt.show"
      ],
      "metadata": {
        "colab": {
          "base_uri": "https://localhost:8080/",
          "height": 293
        },
        "id": "dxR87bGJf3Jv",
        "outputId": "4902bb0d-834c-4b26-f306-b818d6f3444f"
      },
      "execution_count": null,
      "outputs": [
        {
          "output_type": "execute_result",
          "data": {
            "text/plain": [
              "<function matplotlib.pyplot.show(*args, **kw)>"
            ]
          },
          "metadata": {},
          "execution_count": 8
        },
        {
          "output_type": "display_data",
          "data": {
            "text/plain": [
              "<Figure size 432x288 with 1 Axes>"
            ],
            "image/png": "[encoded data removed]"
          },
          "metadata": {
            "needs_background": "light"
          }
        }
      ]
    }
  ]
}